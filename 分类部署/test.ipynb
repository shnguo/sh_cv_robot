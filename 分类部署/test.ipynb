{
 "cells": [
  {
   "cell_type": "code",
   "execution_count": 2,
   "metadata": {},
   "outputs": [],
   "source": [
    "import torch\n",
    "from torchvision import datasets, transforms\n",
    "from torch.utils.data import DataLoader\n",
    "from PIL import Image\n",
    "from resnet.net import *"
   ]
  },
  {
   "cell_type": "code",
   "execution_count": 3,
   "metadata": {},
   "outputs": [
    {
     "name": "stdout",
     "output_type": "stream",
     "text": [
      "Validation Acc: 90.000% (9/10)\n",
      "Validation Acc: 100.000% (10/10)\n",
      "Validation Acc: 85.714% (12/14)\n",
      "Validation Acc: 100.000% (15/15)\n",
      "Validation Acc: 100.000% (14/14)\n",
      "Validation Acc: 88.235% (15/17)\n",
      "Validation Acc: 58.333% (7/12)\n"
     ]
    }
   ],
   "source": [
    "files = ['电容器鼓肚', '破损', '硅胶', '箱体', '花屏', '表盘模糊', '表计读数异常_指针']\n",
    "for file in files:\n",
    "    tfms = transforms.Compose([\n",
    "        transforms.Resize(256),\n",
    "        transforms.CenterCrop(256),\n",
    "        transforms.ToTensor(),\n",
    "        transforms.Normalize((0.485, 0.456, 0.406), (0.229, 0.224, 0.225))\n",
    "    ])\n",
    "    valid_dataset = datasets.ImageFolder(file + '/data/test', transform=tfms)\n",
    "    valid_dataloader = DataLoader(valid_dataset, batch_size=128, shuffle=False, num_workers=0)\n",
    "    model = torch.load(file+'/model.pt')\n",
    "\n",
    "    device = torch.device('cuda' if torch.cuda.is_available() else 'cpu')\n",
    "    model.eval()\n",
    "    test_loss = 0\n",
    "    correct = 0\n",
    "    total = 0\n",
    "    with torch.no_grad():\n",
    "        for batch_idx, (inputs, targets) in enumerate(valid_dataloader):\n",
    "            inputs, targets = inputs.to(device), targets.to(device)\n",
    "            outputs = model(inputs)\n",
    "            _, predicted = outputs.max(1)\n",
    "            total += targets.size(0)\n",
    "            correct += predicted.eq(targets).sum().item()\n",
    "            acc = 100.*correct/total\n",
    "\n",
    "        print('Validation Acc: %.3f%% (%d/%d)'%(acc,correct,total))"
   ]
  }
 ],
 "metadata": {
  "kernelspec": {
   "display_name": "base",
   "language": "python",
   "name": "python3"
  },
  "language_info": {
   "codemirror_mode": {
    "name": "ipython",
    "version": 3
   },
   "file_extension": ".py",
   "mimetype": "text/x-python",
   "name": "python",
   "nbconvert_exporter": "python",
   "pygments_lexer": "ipython3",
   "version": "3.9.13"
  },
  "orig_nbformat": 4
 },
 "nbformat": 4,
 "nbformat_minor": 2
}
