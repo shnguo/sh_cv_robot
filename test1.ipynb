{
 "cells": [
  {
   "cell_type": "code",
   "execution_count": 1,
   "metadata": {},
   "outputs": [
    {
     "name": "stdout",
     "output_type": "stream",
     "text": [
      "tensor([[[0.4508, 0.4508, 0.4508,  ..., 0.3823, 0.3823, 0.3823],\n",
      "         [0.4679, 0.4679, 0.4679,  ..., 0.3823, 0.3823, 0.3823],\n",
      "         [0.4679, 0.4679, 0.4679,  ..., 0.3652, 0.3652, 0.3652],\n",
      "         ...,\n",
      "         [0.3481, 0.3481, 0.3481,  ..., 0.4851, 0.4851, 0.4851],\n",
      "         [0.3481, 0.3481, 0.3481,  ..., 0.4851, 0.4851, 0.4851],\n",
      "         [0.3481, 0.3481, 0.3481,  ..., 0.4851, 0.4851, 0.4851]],\n",
      "\n",
      "        [[0.9580, 0.9580, 0.9580,  ..., 0.7304, 0.7304, 0.7304],\n",
      "         [0.9580, 0.9580, 0.9580,  ..., 0.7304, 0.7304, 0.7304],\n",
      "         [0.9755, 0.9755, 0.9755,  ..., 0.7129, 0.7129, 0.7129],\n",
      "         ...,\n",
      "         [0.5903, 0.5903, 0.5903,  ..., 0.7654, 0.7654, 0.7654],\n",
      "         [0.5903, 0.5903, 0.5903,  ..., 0.7654, 0.7654, 0.7654],\n",
      "         [0.5903, 0.5903, 0.5903,  ..., 0.7654, 0.7654, 0.7654]],\n",
      "\n",
      "        [[0.8099, 0.8099, 0.8099,  ..., 0.6879, 0.6879, 0.6879],\n",
      "         [0.8274, 0.8274, 0.8274,  ..., 0.6705, 0.6705, 0.6705],\n",
      "         [0.8274, 0.8274, 0.8274,  ..., 0.6705, 0.6705, 0.6705],\n",
      "         ...,\n",
      "         [0.6705, 0.6705, 0.6705,  ..., 0.5659, 0.5659, 0.5659],\n",
      "         [0.6705, 0.6705, 0.6705,  ..., 0.5659, 0.5659, 0.5659],\n",
      "         [0.6705, 0.6705, 0.6705,  ..., 0.5659, 0.5659, 0.5659]]])\n",
      "tensor([[0.4692, 0.5308]], grad_fn=<SoftmaxBackward0>)\n",
      "1\n"
     ]
    }
   ],
   "source": [
    "import torch\n",
    "from torchvision import datasets, transforms\n",
    "from PIL import Image\n",
    "from resnet.net import *\n",
    "\n",
    "files = [\n",
    "    '/home/dl/sh_cv_robot/dataset/pic/light_red_green/test_image/211695194409_.pic.jpg', \n",
    "    # './test_image/221695194409_.pic.jpg', \n",
    "    # './test_image/231695194419_.pic.jpg', \n",
    "    # './test_image/241695194419_.pic.jpg'\n",
    "]\n",
    "label = [0, 0, 1, 1]\n",
    "model = torch.load('/home/dl/sh_cv_robot/models/resnet50/light_red_green_clf.pt')\n",
    "model.eval()\n",
    "# model.to('cpu')\n",
    "nonlinear = nn.Softmax(dim=1)\n",
    "tfms = transforms.Compose([\n",
    "    # transforms.ToTensor(),\n",
    "    transforms.Resize(256),\n",
    "    transforms.CenterCrop(256),\n",
    "    transforms.ToTensor(),\n",
    "    transforms.Normalize((0.485, 0.456, 0.406), (0.229, 0.224, 0.225))\n",
    "])\n",
    "res = []\n",
    "for i, file in enumerate(files):\n",
    "    image = Image.open(file).convert('RGB')\n",
    "    sample = tfms(image) \n",
    "    output = nonlinear(model(sample.unsqueeze(0)))\n",
    "    res = output.argmax().item()\n",
    "    print(sample)\n",
    "    print(output)\n",
    "    print(res)\n",
    "    # print(res == label[i])"
   ]
  },
  {
   "cell_type": "code",
   "execution_count": 2,
   "metadata": {},
   "outputs": [
    {
     "data": {
      "text/plain": [
       "'0.15.1+cu117'"
      ]
     },
     "execution_count": 2,
     "metadata": {},
     "output_type": "execute_result"
    }
   ],
   "source": [
    "import PIL\n",
    "PIL.__version__\n",
    "import torchvision\n",
    "torchvision.__version__"
   ]
  },
  {
   "cell_type": "code",
   "execution_count": 4,
   "metadata": {},
   "outputs": [
    {
     "data": {
      "text/plain": [
       "'2.0.0+cu117'"
      ]
     },
     "execution_count": 4,
     "metadata": {},
     "output_type": "execute_result"
    }
   ],
   "source": [
    "torch.__version__"
   ]
  },
  {
   "cell_type": "code",
   "execution_count": 3,
   "metadata": {},
   "outputs": [
    {
     "name": "stdout",
     "output_type": "stream",
     "text": [
      "0\n"
     ]
    }
   ],
   "source": [
    "import cv2\n",
    "from PIL import Image\n",
    "import numpy as np\n",
    "arr1 = np.asarray(Image.open('/home/dl/sh_cv_robot/dataset/pic/light_red_green/test_image/211695194409_.pic.jpg')).astype('int64')\n",
    "img = cv2.imread('/home/dl/sh_cv_robot/dataset/pic/light_red_green/test_image/211695194409_.pic.jpg', cv2.IMREAD_COLOR)\n",
    "arr2 = cv2.cvtColor(img, cv2.COLOR_BGR2RGB)\n",
    "print(np.amax(abs(arr1 - arr2)))"
   ]
  },
  {
   "cell_type": "code",
   "execution_count": 4,
   "metadata": {},
   "outputs": [
    {
     "name": "stdout",
     "output_type": "stream",
     "text": [
      "tensor([[[0.4508, 0.4508, 0.4508,  ..., 0.3823, 0.3823, 0.3823],\n",
      "         [0.4679, 0.4679, 0.4679,  ..., 0.3823, 0.3823, 0.3823],\n",
      "         [0.4679, 0.4679, 0.4679,  ..., 0.3652, 0.3652, 0.3652],\n",
      "         ...,\n",
      "         [0.3481, 0.3481, 0.3481,  ..., 0.4851, 0.4851, 0.4851],\n",
      "         [0.3481, 0.3481, 0.3481,  ..., 0.4851, 0.4851, 0.4851],\n",
      "         [0.3481, 0.3481, 0.3481,  ..., 0.4851, 0.4851, 0.4851]],\n",
      "\n",
      "        [[0.9580, 0.9580, 0.9580,  ..., 0.7304, 0.7304, 0.7304],\n",
      "         [0.9580, 0.9580, 0.9580,  ..., 0.7304, 0.7304, 0.7304],\n",
      "         [0.9755, 0.9755, 0.9755,  ..., 0.7129, 0.7129, 0.7129],\n",
      "         ...,\n",
      "         [0.5903, 0.5903, 0.5903,  ..., 0.7654, 0.7654, 0.7654],\n",
      "         [0.5903, 0.5903, 0.5903,  ..., 0.7654, 0.7654, 0.7654],\n",
      "         [0.5903, 0.5903, 0.5903,  ..., 0.7654, 0.7654, 0.7654]],\n",
      "\n",
      "        [[0.8099, 0.8099, 0.8099,  ..., 0.6879, 0.6879, 0.6879],\n",
      "         [0.8274, 0.8274, 0.8274,  ..., 0.6705, 0.6705, 0.6705],\n",
      "         [0.8274, 0.8274, 0.8274,  ..., 0.6705, 0.6705, 0.6705],\n",
      "         ...,\n",
      "         [0.6705, 0.6705, 0.6705,  ..., 0.5659, 0.5659, 0.5659],\n",
      "         [0.6705, 0.6705, 0.6705,  ..., 0.5659, 0.5659, 0.5659],\n",
      "         [0.6705, 0.6705, 0.6705,  ..., 0.5659, 0.5659, 0.5659]]])\n",
      "tensor([[[0.4508, 0.4508, 0.4508,  ..., 0.3823, 0.3823, 0.3823],\n",
      "         [0.4679, 0.4679, 0.4679,  ..., 0.3823, 0.3823, 0.3823],\n",
      "         [0.4679, 0.4679, 0.4679,  ..., 0.3652, 0.3652, 0.3652],\n",
      "         ...,\n",
      "         [0.3481, 0.3481, 0.3481,  ..., 0.4851, 0.4851, 0.4851],\n",
      "         [0.3481, 0.3481, 0.3481,  ..., 0.4851, 0.4851, 0.4851],\n",
      "         [0.3481, 0.3481, 0.3481,  ..., 0.4851, 0.4851, 0.4851]],\n",
      "\n",
      "        [[0.9580, 0.9580, 0.9580,  ..., 0.7304, 0.7304, 0.7304],\n",
      "         [0.9580, 0.9580, 0.9580,  ..., 0.7304, 0.7304, 0.7304],\n",
      "         [0.9755, 0.9755, 0.9755,  ..., 0.7129, 0.7129, 0.7129],\n",
      "         ...,\n",
      "         [0.5903, 0.5903, 0.5903,  ..., 0.7654, 0.7654, 0.7654],\n",
      "         [0.5903, 0.5903, 0.5903,  ..., 0.7654, 0.7654, 0.7654],\n",
      "         [0.5903, 0.5903, 0.5903,  ..., 0.7654, 0.7654, 0.7654]],\n",
      "\n",
      "        [[0.8099, 0.8099, 0.8099,  ..., 0.6879, 0.6879, 0.6879],\n",
      "         [0.8274, 0.8274, 0.8274,  ..., 0.6705, 0.6705, 0.6705],\n",
      "         [0.8274, 0.8274, 0.8274,  ..., 0.6705, 0.6705, 0.6705],\n",
      "         ...,\n",
      "         [0.6705, 0.6705, 0.6705,  ..., 0.5659, 0.5659, 0.5659],\n",
      "         [0.6705, 0.6705, 0.6705,  ..., 0.5659, 0.5659, 0.5659],\n",
      "         [0.6705, 0.6705, 0.6705,  ..., 0.5659, 0.5659, 0.5659]]])\n"
     ]
    }
   ],
   "source": [
    "img = cv2.imread('/home/dl/sh_cv_robot/dataset/pic/light_red_green/test_image/211695194409_.pic.jpg')\n",
    "img = cv2.cvtColor(img, cv2.COLOR_BGR2RGB)\n",
    "print(tfms(Image.fromarray(img)))\n",
    "print(tfms(Image.open('/home/dl/sh_cv_robot/dataset/pic/light_red_green/test_image/211695194409_.pic.jpg')))"
   ]
  },
  {
   "cell_type": "code",
   "execution_count": 27,
   "metadata": {},
   "outputs": [
    {
     "name": "stdout",
     "output_type": "stream",
     "text": [
      "b'/9j/4AAQSkZJRgABAQAAAQABAAD/2wBDAAIBAQEBAQIBAQECAgICAgQDAgICAgUEBAMEBgUGBgYFBgYGBwkIBgcJBwYGCAsICQoKCgoKBggLDAsKDAkKCgr/2wBDAQICAgICAgUDAwUKBwYHCgoKCgoKCgoKCgoKCgoKCgoKCgoKCgoKCgoKCgoKCgoKCgoKCgoKCgoKCgoKCgoKCgr/wAARCAAcABYDASIAAhEBAxEB/8QAHwAAAQUBAQEBAQEAAAAAAAAAAAECAwQFBgcICQoL/8QAtRAAAgEDAwIEAwUFBAQAAAF9AQIDAAQRBRIhMUEGE1FhByJxFDKBkaEII0KxwRVS0fAkM2JyggkKFhcYGRolJicoKSo0NTY3ODk6Q0RFRkdISUpTVFVWV1hZWmNkZWZnaGlqc3R1dnd4eXqDhIWGh4iJipKTlJWWl5iZmqKjpKWmp6ipqrKztLW2t7i5usLDxMXGx8jJytLT1NXW19jZ2uHi4+Tl5ufo6erx8vP09fb3+Pn6/8QAHwEAAwEBAQEBAQEBAQAAAAAAAAECAwQFBgcICQoL/8QAtREAAgECBAQDBAcFBAQAAQJ3AAECAxEEBSExBhJBUQdhcRMiMoEIFEKRobHBCSMzUvAVYnLRChYkNOEl8RcYGRomJygpKjU2Nzg5OkNERUZHSElKU1RVVldYWVpjZGVmZ2hpanN0dXZ3eHl6goOEhYaHiImKkpOUlZaXmJmaoqOkpaanqKmqsrO0tba3uLm6wsPExcbHyMnK0tPU1dbX2Nna4uPk5ebn6Onq8vP09fb3+Pn6/9oADAMBAAIRAxEAPwD638I/Bwa8IhGrrJO2yMCPJZm/2f4q83/bl/ZC8YeOPgjrXw705LmO6naNJNt61qsC7vmknX5mljVWZmj2/vPl2/3l+hfgj8R08Hatoni37PFNbWN2ovkbqIWXazD3Xdur6c/ac+Edr8TfhxceMfB8KtqkWns0Plj/AI+Y9udh9favnKOHxGJwk5Ql738p+BR4i4mnLMa+Gkp1cJJS9jbWULXunfV3vZeVup+T/wACfAfjT4efCPR/BfiW1uZ7zS0ktmun1R7n7aqyNtuFckMqN/DGw/d/c/hor3e80Rb/AEKz1KNctl4pU/usporCji7U1eJ9zwzxll/EORUMxX/L2KkZvw78Zf2bIsM3zRt8rK1fWnwB/ams/CPhR/CfikS3drDan+zrhHLtjH+rbPb0buK+GPD6mRVDux/Gu30rUL2K2VY7hgK3qutgqvPTe55ud5DVjm8cfgKvsq9nFu11KOzUl17rsy7rPjvw7rKaomh65p813F4kuPt9na3KTyWUhVWMMwhZjHINw+U0V81/s+W0Nv8AtLfHvTYkxD/wmlnc7f8AppJa/O347RRXn005w5nub8M8H4Hh/JaWBhVnJQvq7dW3+p//2Q=='\n"
     ]
    }
   ],
   "source": [
    "img = cv2.imread('/home/dl/sh_cv_robot/dataset/pic/light_red_green/test_image/211695194409_.pic.jpg')\n",
    "import base64\n",
    "def image2base64_new(img):\n",
    "    _, im_arr = cv2.imencode('.jpg', img)  # im_arr: image in Numpy one-dim array format.\n",
    "    # im_bytes = im_arr.tobytes()\n",
    "    im_b64 = base64.b64encode(im_arr)\n",
    "    return im_b64\n",
    "print(image2base64_new(img))"
   ]
  },
  {
   "cell_type": "code",
   "execution_count": 5,
   "metadata": {},
   "outputs": [],
   "source": [
    "from image_utils import image2base64, base642image,img_base64,base64_img,img_base64_new"
   ]
  },
  {
   "cell_type": "code",
   "execution_count": 8,
   "metadata": {},
   "outputs": [],
   "source": [
    "img = Image.open('/home/dl/sh_cv_robot/dataset/pic/light_red_green/test_image/211695194409_.pic.jpg').convert('RGB')\n",
    "img2 = base64_img(img_base64(img)).convert('RGB')\n",
    "img2.save('/home/dl/sh_cv_robot/dataset/pic/light_red_green/test_image/211695194409_2.pic.png')"
   ]
  },
  {
   "cell_type": "code",
   "execution_count": 7,
   "metadata": {},
   "outputs": [
    {
     "name": "stdout",
     "output_type": "stream",
     "text": [
      "images are the same\n",
      "Identical\n"
     ]
    }
   ],
   "source": [
    "from PIL import ImageChops\n",
    "diff = ImageChops.difference(img, img2)\n",
    "if diff.getbbox():\n",
    "    print(\"images are different\")\n",
    "else:\n",
    "    print(\"images are the same\")\n",
    "if list(img.getdata()) == list(img2.getdata()):\n",
    "    print(\"Identical\")\n",
    "else:\n",
    "    print (\"Different\")\n",
    "\n",
    "\n"
   ]
  },
  {
   "cell_type": "code",
   "execution_count": 9,
   "metadata": {},
   "outputs": [
    {
     "name": "stdout",
     "output_type": "stream",
     "text": [
      "tensor([[[0.4508, 0.4508, 0.4508,  ..., 0.3823, 0.3823, 0.3823],\n",
      "         [0.4679, 0.4679, 0.4679,  ..., 0.3823, 0.3823, 0.3823],\n",
      "         [0.4679, 0.4679, 0.4679,  ..., 0.3652, 0.3652, 0.3652],\n",
      "         ...,\n",
      "         [0.3481, 0.3481, 0.3481,  ..., 0.4851, 0.4851, 0.4851],\n",
      "         [0.3481, 0.3481, 0.3481,  ..., 0.4851, 0.4851, 0.4851],\n",
      "         [0.3481, 0.3481, 0.3481,  ..., 0.4851, 0.4851, 0.4851]],\n",
      "\n",
      "        [[0.9580, 0.9580, 0.9580,  ..., 0.7304, 0.7304, 0.7304],\n",
      "         [0.9580, 0.9580, 0.9580,  ..., 0.7304, 0.7304, 0.7304],\n",
      "         [0.9755, 0.9755, 0.9755,  ..., 0.7129, 0.7129, 0.7129],\n",
      "         ...,\n",
      "         [0.5903, 0.5903, 0.5903,  ..., 0.7654, 0.7654, 0.7654],\n",
      "         [0.5903, 0.5903, 0.5903,  ..., 0.7654, 0.7654, 0.7654],\n",
      "         [0.5903, 0.5903, 0.5903,  ..., 0.7654, 0.7654, 0.7654]],\n",
      "\n",
      "        [[0.8099, 0.8099, 0.8099,  ..., 0.6879, 0.6879, 0.6879],\n",
      "         [0.8274, 0.8274, 0.8274,  ..., 0.6705, 0.6705, 0.6705],\n",
      "         [0.8274, 0.8274, 0.8274,  ..., 0.6705, 0.6705, 0.6705],\n",
      "         ...,\n",
      "         [0.6705, 0.6705, 0.6705,  ..., 0.5659, 0.5659, 0.5659],\n",
      "         [0.6705, 0.6705, 0.6705,  ..., 0.5659, 0.5659, 0.5659],\n",
      "         [0.6705, 0.6705, 0.6705,  ..., 0.5659, 0.5659, 0.5659]]])\n",
      "tensor([[[0.4508, 0.4508, 0.4508,  ..., 0.3823, 0.3823, 0.3823],\n",
      "         [0.4679, 0.4679, 0.4679,  ..., 0.3823, 0.3823, 0.3823],\n",
      "         [0.4679, 0.4679, 0.4679,  ..., 0.3652, 0.3652, 0.3652],\n",
      "         ...,\n",
      "         [0.3481, 0.3481, 0.3481,  ..., 0.4851, 0.4851, 0.4851],\n",
      "         [0.3481, 0.3481, 0.3481,  ..., 0.4851, 0.4851, 0.4851],\n",
      "         [0.3481, 0.3481, 0.3481,  ..., 0.4851, 0.4851, 0.4851]],\n",
      "\n",
      "        [[0.9580, 0.9580, 0.9580,  ..., 0.7304, 0.7304, 0.7304],\n",
      "         [0.9580, 0.9580, 0.9580,  ..., 0.7304, 0.7304, 0.7304],\n",
      "         [0.9755, 0.9755, 0.9755,  ..., 0.7129, 0.7129, 0.7129],\n",
      "         ...,\n",
      "         [0.5903, 0.5903, 0.5903,  ..., 0.7654, 0.7654, 0.7654],\n",
      "         [0.5903, 0.5903, 0.5903,  ..., 0.7654, 0.7654, 0.7654],\n",
      "         [0.5903, 0.5903, 0.5903,  ..., 0.7654, 0.7654, 0.7654]],\n",
      "\n",
      "        [[0.8099, 0.8099, 0.8099,  ..., 0.6879, 0.6879, 0.6879],\n",
      "         [0.8274, 0.8274, 0.8274,  ..., 0.6705, 0.6705, 0.6705],\n",
      "         [0.8274, 0.8274, 0.8274,  ..., 0.6705, 0.6705, 0.6705],\n",
      "         ...,\n",
      "         [0.6705, 0.6705, 0.6705,  ..., 0.5659, 0.5659, 0.5659],\n",
      "         [0.6705, 0.6705, 0.6705,  ..., 0.5659, 0.5659, 0.5659],\n",
      "         [0.6705, 0.6705, 0.6705,  ..., 0.5659, 0.5659, 0.5659]]])\n"
     ]
    }
   ],
   "source": [
    "print(tfms(img))\n",
    "print(tfms(img2))"
   ]
  }
 ],
 "metadata": {
  "kernelspec": {
   "display_name": "base",
   "language": "python",
   "name": "python3"
  },
  "language_info": {
   "codemirror_mode": {
    "name": "ipython",
    "version": 3
   },
   "file_extension": ".py",
   "mimetype": "text/x-python",
   "name": "python",
   "nbconvert_exporter": "python",
   "pygments_lexer": "ipython3",
   "version": "3.10.12"
  },
  "orig_nbformat": 4
 },
 "nbformat": 4,
 "nbformat_minor": 2
}
