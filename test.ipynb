{
 "cells": [
  {
   "cell_type": "code",
   "execution_count": 3,
   "metadata": {},
   "outputs": [],
   "source": [
    "import numpy as np\n",
    "from PIL import Image\n",
    "import cv2\n",
    "from image_utils import base642image,image2base64"
   ]
  },
  {
   "cell_type": "code",
   "execution_count": 10,
   "metadata": {},
   "outputs": [],
   "source": [
    "# target=np.array(Image.open('/home/dl/yolo8/nest/train/images/13_jpg.rf.3e4500f15e7c7acb8ec93aada8e4ae24.jpg'),dtype=np.int64)\n",
    "img = cv2.imread('/home/dl/yolo8/nest/train/images/13_jpg.rf.3e4500f15e7c7acb8ec93aada8e4ae24.jpg')"
   ]
  },
  {
   "cell_type": "code",
   "execution_count": 11,
   "metadata": {},
   "outputs": [
    {
     "data": {
      "text/plain": [
       "array([[[245, 227, 204],\n",
       "        [247, 229, 206],\n",
       "        [251, 230, 209],\n",
       "        ...,\n",
       "        [105, 134, 143],\n",
       "        [119, 146, 156],\n",
       "        [ 57,  84,  94]],\n",
       "\n",
       "       [[247, 229, 206],\n",
       "        [247, 229, 206],\n",
       "        [248, 227, 206],\n",
       "        ...,\n",
       "        [112, 141, 150],\n",
       "        [119, 146, 156],\n",
       "        [ 67,  94, 104]],\n",
       "\n",
       "       [[253, 234, 213],\n",
       "        [249, 230, 209],\n",
       "        [247, 226, 205],\n",
       "        ...,\n",
       "        [109, 138, 147],\n",
       "        [118, 145, 155],\n",
       "        [ 93, 120, 130]],\n",
       "\n",
       "       ...,\n",
       "\n",
       "       [[ 68,  68,  68],\n",
       "        [111, 111, 111],\n",
       "        [140, 140, 140],\n",
       "        ...,\n",
       "        [255, 218, 140],\n",
       "        [255, 218, 140],\n",
       "        [255, 218, 140]],\n",
       "\n",
       "       [[ 87,  87,  87],\n",
       "        [141, 141, 141],\n",
       "        [139, 139, 139],\n",
       "        ...,\n",
       "        [255, 218, 140],\n",
       "        [255, 218, 140],\n",
       "        [255, 218, 140]],\n",
       "\n",
       "       [[111, 111, 111],\n",
       "        [149, 149, 149],\n",
       "        [130, 130, 130],\n",
       "        ...,\n",
       "        [255, 218, 140],\n",
       "        [255, 218, 140],\n",
       "        [255, 218, 140]]], dtype=uint8)"
      ]
     },
     "execution_count": 11,
     "metadata": {},
     "output_type": "execute_result"
    }
   ],
   "source": [
    "img_raw_b64 = image2base64(img_raw)"
   ]
  },
  {
   "cell_type": "code",
   "execution_count": null,
   "metadata": {},
   "outputs": [],
   "source": []
  }
 ],
 "metadata": {
  "kernelspec": {
   "display_name": "Python 3",
   "language": "python",
   "name": "python3"
  },
  "language_info": {
   "codemirror_mode": {
    "name": "ipython",
    "version": 3
   },
   "file_extension": ".py",
   "mimetype": "text/x-python",
   "name": "python",
   "nbconvert_exporter": "python",
   "pygments_lexer": "ipython3",
   "version": "3.9.12"
  },
  "orig_nbformat": 4
 },
 "nbformat": 4,
 "nbformat_minor": 2
}
