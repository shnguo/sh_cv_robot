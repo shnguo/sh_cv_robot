{
 "cells": [
  {
   "cell_type": "code",
   "execution_count": 7,
   "metadata": {},
   "outputs": [
    {
     "name": "stdout",
     "output_type": "stream",
     "text": [
      "Detected rat with confidence 0.178 at location [533.62, 370.35, 656.51, 501.25]\n",
      "Detected rat with confidence 0.172 at location [233.86, 461.76, 342.1, 567.79]\n",
      "Detected rat with confidence 0.247 at location [734.78, 535.96, 968.02, 677.27]\n",
      "Detected rat with confidence 0.195 at location [946.69, 595.09, 1120.63, 747.09]\n"
     ]
    }
   ],
   "source": [
    "import requests\n",
    "from PIL import Image\n",
    "import torch\n",
    "\n",
    "from transformers import OwlViTProcessor, OwlViTForObjectDetection\n",
    "\n",
    "processor = OwlViTProcessor.from_pretrained(\"google/owlvit-base-patch32\")\n",
    "model = OwlViTForObjectDetection.from_pretrained(\"google/owlvit-base-patch32\")\n",
    "\n",
    "url = \"http://images.cocodataset.org/val2017/000000039769.jpg\"\n",
    "image = Image.open(requests.get(url, stream=True).raw)\n",
    "image = Image.open('/home/dl/sh_cv_robot/dataset/pic/rat/截屏2023-10-20 16.21.48.png').convert(\"RGB\") \n",
    "texts = [[\"rat\", \"a photo of a dog\"]]\n",
    "inputs = processor(text=texts, images=image, return_tensors=\"pt\")\n",
    "outputs = model(**inputs)\n",
    "\n",
    "# Target image sizes (height, width) to rescale box predictions [batch_size, 2]\n",
    "target_sizes = torch.Tensor([image.size[::-1]])\n",
    "# Convert outputs (bounding boxes and class logits) to COCO API\n",
    "results = processor.post_process_object_detection(outputs=outputs, target_sizes=target_sizes, threshold=0.1)\n",
    "i = 0  # Retrieve predictions for the first image for the corresponding text queries\n",
    "text = texts[i]\n",
    "boxes, scores, labels = results[i][\"boxes\"], results[i][\"scores\"], results[i][\"labels\"]\n",
    "for box, score, label in zip(boxes, scores, labels):\n",
    "    box = [round(i, 2) for i in box.tolist()]\n",
    "    print(f\"Detected {text[label]} with confidence {round(score.item(), 3)} at location {box}\")"
   ]
  }
 ],
 "metadata": {
  "kernelspec": {
   "display_name": "sh_cv_robot",
   "language": "python",
   "name": "python3"
  },
  "language_info": {
   "codemirror_mode": {
    "name": "ipython",
    "version": 3
   },
   "file_extension": ".py",
   "mimetype": "text/x-python",
   "name": "python",
   "nbconvert_exporter": "python",
   "pygments_lexer": "ipython3",
   "version": "3.10.12"
  }
 },
 "nbformat": 4,
 "nbformat_minor": 2
}
